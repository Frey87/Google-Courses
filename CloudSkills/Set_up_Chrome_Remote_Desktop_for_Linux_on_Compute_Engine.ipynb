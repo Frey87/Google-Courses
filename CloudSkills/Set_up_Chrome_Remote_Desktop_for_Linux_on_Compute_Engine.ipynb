{
  "nbformat": 4,
  "nbformat_minor": 0,
  "metadata": {
    "colab": {
      "provenance": [],
      "authorship_tag": "ABX9TyNiBuAlmjxrdiiQyGukoH2e",
      "include_colab_link": true
    },
    "kernelspec": {
      "name": "python3",
      "display_name": "Python 3"
    },
    "language_info": {
      "name": "python"
    }
  },
  "cells": [
    {
      "cell_type": "markdown",
      "metadata": {
        "id": "view-in-github",
        "colab_type": "text"
      },
      "source": [
        "<a href=\"https://colab.research.google.com/github/Frey87/Google-Courses/blob/main/Set_up_Chrome_Remote_Desktop_for_Linux_on_Compute_Engine.ipynb\" target=\"_parent\"><img src=\"https://colab.research.google.com/assets/colab-badge.svg\" alt=\"Open In Colab\"/></a>"
      ]
    },
    {
      "cell_type": "markdown",
      "source": [
        "# **Set up Chrome Remote Desktop for Linux on Compute Engine**"
      ],
      "metadata": {
        "id": "S_2_55zuDYcT"
      }
    },
    {
      "cell_type": "markdown",
      "source": [
        "**Install Chrome Remote Desktop on the VM instance**\n",
        "1. In the SSH window for your VM instance, download and install the Debian Linux Chrome Remote Desktop installation package."
      ],
      "metadata": {
        "id": "d-PFC3WiDuio"
      }
    },
    {
      "cell_type": "code",
      "source": [
        "sudo apt update\n",
        "curl -L -o chrome-remote-desktop_current_amd64.deb \\\n",
        "    https://dl.google.com/linux/direct/chrome-remote-desktop_current_amd64.deb\n",
        "sudo DEBIAN_FRONTEND=noninteractive \\\n",
        "    apt-get install --assume-yes ./chrome-remote-desktop_current_amd64.deb"
      ],
      "metadata": {
        "id": "9DQKlPXvDn87"
      },
      "execution_count": null,
      "outputs": []
    },
    {
      "cell_type": "markdown",
      "source": [
        "**Install an X Windows System desktop environment**\n",
        "1.   In the SSH window connected to your VM instance, install the Xfce desktop environment and basic desktop components:"
      ],
      "metadata": {
        "id": "limodkzmFAG0"
      }
    },
    {
      "cell_type": "code",
      "source": [
        "sudo DEBIAN_FRONTEND=noninteractive \\\n",
        "    apt install --assume-yes xfce4 desktop-base dbus-x11 xscreensaver"
      ],
      "metadata": {
        "id": "ww4NWRVrEVoT"
      },
      "execution_count": null,
      "outputs": []
    },
    {
      "cell_type": "markdown",
      "source": [
        "2. Configure Chrome Remote Desktop to use Xfce by default:"
      ],
      "metadata": {
        "id": "xEODarCMFWjf"
      }
    },
    {
      "cell_type": "code",
      "source": [
        "sudo bash -c 'echo \"exec /etc/X11/Xsession /usr/bin/xfce4-session\" > /etc/chrome-remote-desktop-session'"
      ],
      "metadata": {
        "id": "Wj_zeW19Fen0"
      },
      "execution_count": null,
      "outputs": []
    },
    {
      "cell_type": "markdown",
      "source": [
        "3. Because there is no display connected to your instance, disable the display manager service on your instance:"
      ],
      "metadata": {
        "id": "LejukBkpFjGw"
      }
    },
    {
      "cell_type": "code",
      "source": [
        "sudo systemctl disable lightdm.service"
      ],
      "metadata": {
        "id": "o4tOBwPrFnkw"
      },
      "execution_count": null,
      "outputs": []
    },
    {
      "cell_type": "markdown",
      "source": [
        "4. Optional: Install the full suite of Linux desktop applications, including the Firefox browser, LibreOffice office application suite, and the Evince PDF viewer:"
      ],
      "metadata": {
        "id": "vCyhffS1FrfA"
      }
    },
    {
      "cell_type": "code",
      "source": [
        "sudo apt install --assume-yes task-xfce-desktop"
      ],
      "metadata": {
        "id": "LJYyF4dLFxxH"
      },
      "execution_count": null,
      "outputs": []
    },
    {
      "cell_type": "markdown",
      "source": [
        "5. Optional: Install the Chrome browser on your instance:"
      ],
      "metadata": {
        "id": "wELK0TkHF06y"
      }
    },
    {
      "cell_type": "code",
      "source": [
        "curl -L -o google-chrome-stable_current_amd64.deb \\\n",
        "https://dl.google.com/linux/direct/google-chrome-stable_current_amd64.deb\n",
        "sudo apt install --assume-yes ./google-chrome-stable_current_amd64.deb"
      ],
      "metadata": {
        "id": "HRQkIuv6F5D4"
      },
      "execution_count": null,
      "outputs": []
    },
    {
      "cell_type": "markdown",
      "source": [
        "**Find more:**\n",
        "*   \"Set up Chrome Remote Desktop for Linux on Compute Engine  |  Cloud Architecture Center  |  Google Cloud\". Google Cloud, 16 листоп. 2022, cloud.google.com/architecture/chrome-desktop-remote-on-compute-engine."
      ],
      "metadata": {
        "id": "Y87AVit9GI9_"
      }
    }
  ]
}
